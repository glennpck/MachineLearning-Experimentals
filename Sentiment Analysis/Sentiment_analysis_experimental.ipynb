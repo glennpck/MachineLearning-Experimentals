{
 "cells": [
  {
   "cell_type": "code",
   "execution_count": 1,
   "metadata": {},
   "outputs": [
    {
     "name": "stdout",
     "output_type": "stream",
     "text": [
      "keras:  2.7.0\n"
     ]
    }
   ],
   "source": [
    "# Import the Required Packages\n",
    "from tensorflow import keras\n",
    "print('keras: ', keras.__version__)"
   ]
  },
  {
   "cell_type": "code",
   "execution_count": 2,
   "metadata": {},
   "outputs": [
    {
     "data": {
      "text/html": [
       "<style>.container { width:95% !important; }</style>"
      ],
      "text/plain": [
       "<IPython.core.display.HTML object>"
      ]
     },
     "metadata": {},
     "output_type": "display_data"
    }
   ],
   "source": [
    "from IPython.core.display import display, HTML\n",
    "display(HTML(\"<style>.container { width:95% !important; }</style>\"))"
   ]
  },
  {
   "cell_type": "code",
   "execution_count": 3,
   "metadata": {},
   "outputs": [],
   "source": [
    "import os\n",
    "import numpy as np\n",
    "import pandas as pd\n",
    "import re\n",
    "from re import search\n",
    "import csv\n",
    "import fasttext\n",
    "from tensorflow.keras.utils import to_categorical\n",
    "from tensorflow.keras import layers\n",
    "from tensorflow.keras import regularizers\n",
    "from tensorflow.keras.layers import Embedding, SimpleRNN, Dense, LSTM, Dropout, Flatten, GRU\n",
    "from tensorflow.keras.regularizers import l2\n",
    "from tensorflow.keras.models import Sequential\n",
    "from tensorflow.keras.datasets import imdb\n",
    "from tensorflow.keras.preprocessing import sequence\n",
    "from tensorflow.keras.datasets import imdb\n",
    "from tensorflow.keras import preprocessing\n",
    "from tensorflow.keras.preprocessing.text import Tokenizer\n",
    "from tensorflow.keras.preprocessing.sequence import pad_sequences"
   ]
  },
  {
   "cell_type": "markdown",
   "metadata": {},
   "source": [
    "### 1.1 Data Loading for Reddit Dataset"
   ]
  },
  {
   "cell_type": "code",
   "execution_count": 7,
   "metadata": {},
   "outputs": [
    {
     "data": {
      "text/html": [
       "<div>\n",
       "<style scoped>\n",
       "    .dataframe tbody tr th:only-of-type {\n",
       "        vertical-align: middle;\n",
       "    }\n",
       "\n",
       "    .dataframe tbody tr th {\n",
       "        vertical-align: top;\n",
       "    }\n",
       "\n",
       "    .dataframe thead th {\n",
       "        text-align: right;\n",
       "    }\n",
       "</style>\n",
       "<table border=\"1\" class=\"dataframe\">\n",
       "  <thead>\n",
       "    <tr style=\"text-align: right;\">\n",
       "      <th></th>\n",
       "      <th>reviewId</th>\n",
       "      <th>userName</th>\n",
       "      <th>userImage</th>\n",
       "      <th>content</th>\n",
       "      <th>score</th>\n",
       "      <th>thumbsUpCount</th>\n",
       "      <th>reviewCreatedVersion</th>\n",
       "      <th>at</th>\n",
       "      <th>replyContent</th>\n",
       "      <th>repliedAt</th>\n",
       "    </tr>\n",
       "  </thead>\n",
       "  <tbody>\n",
       "    <tr>\n",
       "      <th>0</th>\n",
       "      <td>gp:AOqpTOFjtBvreXWVPzDBNkhrq-Buxd2EwEcCW6ECJQN...</td>\n",
       "      <td>Trever Bennnett</td>\n",
       "      <td>https://play-lh.googleusercontent.com/a/AATXAJ...</td>\n",
       "      <td>Its okay for technical stuff or like memes The...</td>\n",
       "      <td>1</td>\n",
       "      <td>0</td>\n",
       "      <td>2022.1.0</td>\n",
       "      <td>2022-01-21 20:42:19</td>\n",
       "      <td>NaN</td>\n",
       "      <td>NaN</td>\n",
       "    </tr>\n",
       "    <tr>\n",
       "      <th>1</th>\n",
       "      <td>gp:AOqpTOHHyIsrsOBynJkIJkrdqP7CzQIfHGr5ayvnfh3...</td>\n",
       "      <td>mike riley</td>\n",
       "      <td>https://play-lh.googleusercontent.com/a/AATXAJ...</td>\n",
       "      <td>I love this app its got such cute animal pics ...</td>\n",
       "      <td>5</td>\n",
       "      <td>0</td>\n",
       "      <td>2022.1.0</td>\n",
       "      <td>2022-01-21 20:39:49</td>\n",
       "      <td>NaN</td>\n",
       "      <td>NaN</td>\n",
       "    </tr>\n",
       "    <tr>\n",
       "      <th>2</th>\n",
       "      <td>gp:AOqpTOFeecu6P8dtLXU15VNSgqQBIIzFgjMqi7mKnWd...</td>\n",
       "      <td>don charlie</td>\n",
       "      <td>https://play-lh.googleusercontent.com/a-/AOh14...</td>\n",
       "      <td>Good info</td>\n",
       "      <td>5</td>\n",
       "      <td>0</td>\n",
       "      <td>2022.1.0</td>\n",
       "      <td>2022-01-21 20:29:41</td>\n",
       "      <td>NaN</td>\n",
       "      <td>NaN</td>\n",
       "    </tr>\n",
       "    <tr>\n",
       "      <th>3</th>\n",
       "      <td>gp:AOqpTOEaigI9oUXfnMkuTT4JDISI_Ki5JfwwJ7Nyq0f...</td>\n",
       "      <td>Olivvia Mialik</td>\n",
       "      <td>https://play-lh.googleusercontent.com/a-/AOh14...</td>\n",
       "      <td>Cannot increase text size</td>\n",
       "      <td>2</td>\n",
       "      <td>0</td>\n",
       "      <td>2022.1.0</td>\n",
       "      <td>2022-01-21 20:23:44</td>\n",
       "      <td>NaN</td>\n",
       "      <td>NaN</td>\n",
       "    </tr>\n",
       "    <tr>\n",
       "      <th>4</th>\n",
       "      <td>gp:AOqpTOEJ6wjFCeFwQEw6iHzkiz9V32PilAeRacoOLWT...</td>\n",
       "      <td>Roshan Singh</td>\n",
       "      <td>https://play-lh.googleusercontent.com/a-/AOh14...</td>\n",
       "      <td>Great app I have been using it for  years And ...</td>\n",
       "      <td>5</td>\n",
       "      <td>0</td>\n",
       "      <td>2022.2.0</td>\n",
       "      <td>2022-01-21 20:22:47</td>\n",
       "      <td>NaN</td>\n",
       "      <td>NaN</td>\n",
       "    </tr>\n",
       "  </tbody>\n",
       "</table>\n",
       "</div>"
      ],
      "text/plain": [
       "                                            reviewId         userName  \\\n",
       "0  gp:AOqpTOFjtBvreXWVPzDBNkhrq-Buxd2EwEcCW6ECJQN...  Trever Bennnett   \n",
       "1  gp:AOqpTOHHyIsrsOBynJkIJkrdqP7CzQIfHGr5ayvnfh3...       mike riley   \n",
       "2  gp:AOqpTOFeecu6P8dtLXU15VNSgqQBIIzFgjMqi7mKnWd...      don charlie   \n",
       "3  gp:AOqpTOEaigI9oUXfnMkuTT4JDISI_Ki5JfwwJ7Nyq0f...   Olivvia Mialik   \n",
       "4  gp:AOqpTOEJ6wjFCeFwQEw6iHzkiz9V32PilAeRacoOLWT...     Roshan Singh   \n",
       "\n",
       "                                           userImage  \\\n",
       "0  https://play-lh.googleusercontent.com/a/AATXAJ...   \n",
       "1  https://play-lh.googleusercontent.com/a/AATXAJ...   \n",
       "2  https://play-lh.googleusercontent.com/a-/AOh14...   \n",
       "3  https://play-lh.googleusercontent.com/a-/AOh14...   \n",
       "4  https://play-lh.googleusercontent.com/a-/AOh14...   \n",
       "\n",
       "                                             content  score  thumbsUpCount  \\\n",
       "0  Its okay for technical stuff or like memes The...      1              0   \n",
       "1  I love this app its got such cute animal pics ...      5              0   \n",
       "2                                          Good info      5              0   \n",
       "3                          Cannot increase text size      2              0   \n",
       "4  Great app I have been using it for  years And ...      5              0   \n",
       "\n",
       "  reviewCreatedVersion                   at replyContent repliedAt  \n",
       "0             2022.1.0  2022-01-21 20:42:19          NaN       NaN  \n",
       "1             2022.1.0  2022-01-21 20:39:49          NaN       NaN  \n",
       "2             2022.1.0  2022-01-21 20:29:41          NaN       NaN  \n",
       "3             2022.1.0  2022-01-21 20:23:44          NaN       NaN  \n",
       "4             2022.2.0  2022-01-21 20:22:47          NaN       NaN  "
      ]
     },
     "execution_count": 7,
     "metadata": {},
     "output_type": "execute_result"
    }
   ],
   "source": [
    "#Read filtered review for chosen app\n",
    "df = pd.read_csv(\"reddit_filtered.csv\")\n",
    "df.head()"
   ]
  },
  {
   "cell_type": "markdown",
   "metadata": {},
   "source": [
    "### 1.3 Standard Data Processing\n"
   ]
  },
  {
   "cell_type": "code",
   "execution_count": 9,
   "metadata": {},
   "outputs": [
    {
     "name": "stdout",
     "output_type": "stream",
     "text": [
      "Found 29531 unique tokens.\n",
      "Shape of data tensor: (101316, 40)\n",
      "Shape of label tensor: (101316, 5)\n",
      "[[ 169   34   29 ...  485   77  212]\n",
      " [   0    0    0 ...   27   83   67]\n",
      " [   0    0    0 ...    0   18  287]\n",
      " ...\n",
      " [   0    0    0 ...    0    0 3454]\n",
      " [   0    0    0 ...    0    0   16]\n",
      " [   0    0    0 ...   54    1  563]]\n",
      "[[1. 0. 0. 0. 0.]\n",
      " [0. 0. 0. 0. 1.]\n",
      " [0. 0. 0. 0. 1.]\n",
      " ...\n",
      " [0. 0. 0. 0. 1.]\n",
      " [0. 0. 0. 0. 1.]\n",
      " [0. 0. 0. 0. 1.]]\n"
     ]
    }
   ],
   "source": [
    "# Convert the content and scores into numeric tensors\n",
    "maxlen = 40  # Cut review after 40\n",
    "training_samples = 90000  # set to have 90000 samples\n",
    "max_words = 10000  # We will only consider the top 10000 words (vocabulary) in the dataset (dictionary)\n",
    "\n",
    "tokenizer = Tokenizer(num_words=max_words) # num_words: the maximum number of words to keep, based on word frequency.\n",
    "tokenizer.fit_on_texts(content_list)\n",
    "sequences = tokenizer.texts_to_sequences(content_list)\n",
    "\n",
    "word_index = tokenizer.word_index\n",
    "print('Found %s unique tokens.' % len(word_index))\n",
    "\n",
    "data = pad_sequences(sequences, maxlen=maxlen)\n",
    "\n",
    "labels = score_list\n",
    "print('Shape of data tensor:', data.shape)\n",
    "print('Shape of label tensor:', labels.shape)\n",
    "\n",
    "X = data[:training_samples]\n",
    "y = labels[:training_samples]\n",
    "\n",
    "print(X)\n",
    "print(y)"
   ]
  },
  {
   "cell_type": "markdown",
   "metadata": {},
   "source": [
    "### 1.4 Data Sampling"
   ]
  },
  {
   "cell_type": "code",
   "execution_count": 8,
   "metadata": {},
   "outputs": [],
   "source": [
    "# Split the X & y into train and test sets\n",
    "from sklearn.model_selection import train_test_split\n",
    "X_train, X_test, y_train, y_test = train_test_split(X, y, test_size=0.2)"
   ]
  },
  {
   "cell_type": "markdown",
   "metadata": {},
   "source": [
    "### 1.5 Data Processing for FastText Model (Unused)\n",
    "Only run this after running Standard Data Processing when attempting to use the FastText Model. The data preprocessing for FastText is a different procedure from  Word2Vec/gloVe."
   ]
  },
  {
   "cell_type": "code",
   "execution_count": 64,
   "metadata": {},
   "outputs": [],
   "source": [
    "#Read filtered review for chosen app\n",
    "df = pd.read_csv(\"<insert csv here>.csv\")\n",
    "df.head()"
   ]
  },
  {
   "cell_type": "code",
   "execution_count": 58,
   "metadata": {},
   "outputs": [],
   "source": [
    "# Altering content and score column to suit FastText input\n",
    "df.iloc[:, 3] = df.iloc[:, 3].apply(lambda x: ' ' + str(x))\n",
    "df.iloc[:, 4] = df.iloc[:, 4].apply(lambda x: '__label__' + str(x))"
   ]
  },
  {
   "cell_type": "code",
   "execution_count": 57,
   "metadata": {},
   "outputs": [],
   "source": [
    "# Convert dataframe columns to numpy array\n",
    "X = df['content'].to_numpy()\n",
    "y = df['score'].to_numpy()"
   ]
  },
  {
   "cell_type": "code",
   "execution_count": 58,
   "metadata": {},
   "outputs": [],
   "source": [
    "# Split X and Y into train and test sets\n",
    "X_train, X_test, y_train, y_test = train_test_split(X, y, test_size=0.2)"
   ]
  },
  {
   "cell_type": "code",
   "execution_count": 59,
   "metadata": {},
   "outputs": [],
   "source": [
    "# Combine X and Y data into one string\n",
    "train_data = []\n",
    "test_data = []\n",
    "xRowCount = 0\n",
    "for row in X_train:\n",
    "    label = y_train[xRowCount]\n",
    "    train_data.append(label + row)\n",
    "    xRowCount += 1\n",
    "    \n",
    "xRowCount = 0\n",
    "for row in X_test:\n",
    "    label = y_test[xRowCount]\n",
    "    test_data.append(label + row)\n",
    "    xRowCount += 1"
   ]
  },
  {
   "cell_type": "code",
   "execution_count": 60,
   "metadata": {},
   "outputs": [],
   "source": [
    "# Convert to numpy arrays and load as text files for input\n",
    "train_file = open(\"train_data.txt\", \"w\")\n",
    "for row in train_data:\n",
    "    train_file.write(row + '\\n')\n",
    "train_file.close()\n",
    "\n",
    "test_file = open(\"test_data.txt\", \"w\")\n",
    "for row in test_data:\n",
    "    test_file.write(row + '\\n')\n",
    "test_file.close()"
   ]
  },
  {
   "cell_type": "markdown",
   "metadata": {},
   "source": [
    "### 1.6 GloVe Word Embedding Preparation\n",
    "Only run this after running Standard Data Processing when attempting to use the gloVe Model."
   ]
  },
  {
   "cell_type": "code",
   "execution_count": null,
   "metadata": {},
   "outputs": [],
   "source": [
    "# Load glove embedding word vectors\n",
    "glove_dir = 'C:\\\\Users\\\\Glenn\\\\Desktop\\\\Year 3\\\\DL\\\\Assignment 2\\\\glove.6B'\n",
    "#glove_dir = 'C:\\\\DL\\\\Week_7\\\\glove.6B'\n",
    "\n",
    "embeddings_index = {}\n",
    "f = open(os.path.join(glove_dir, 'glove.6B.50d.txt'), encoding=\"utf8\")\n",
    "for line in f:\n",
    "    values = line.split()\n",
    "    word = values[0]\n",
    "    coefs = np.asarray(values[1:], dtype='float32')\n",
    "    embeddings_index[word] = coefs\n",
    "f.close()\n",
    "\n",
    "print('Found %s word vectors.' % len(embeddings_index))"
   ]
  },
  {
   "cell_type": "code",
   "execution_count": null,
   "metadata": {},
   "outputs": [],
   "source": [
    "# Prepare embedding matrix to be loaded into embedding layer\n",
    "embedding_dim = 50\n",
    "\n",
    "embedding_matrix = np.zeros((max_words, embedding_dim))\n",
    "for word, i in word_index.items():\n",
    "    embedding_vector = embeddings_index.get(word)\n",
    "    if i < max_words:\n",
    "        if embedding_vector is not None:\n",
    "            # Words not found in embedding index will be all-zeros.\n",
    "            embedding_matrix[i] = embedding_vector"
   ]
  },
  {
   "cell_type": "markdown",
   "metadata": {},
   "source": [
    "## Step 2 – Develop a Sentiment Analysis Model"
   ]
  },
  {
   "cell_type": "markdown",
   "metadata": {},
   "source": [
    "### Model #1 - GRU Model on Reddit Dataset"
   ]
  },
  {
   "cell_type": "code",
   "execution_count": 45,
   "metadata": {},
   "outputs": [
    {
     "name": "stdout",
     "output_type": "stream",
     "text": [
      "Model: \"sequential_1\"\n",
      "_________________________________________________________________\n",
      "Layer (type)                 Output Shape              Param #   \n",
      "=================================================================\n",
      "embedding_1 (Embedding)      (None, 40, 16)            160000    \n",
      "_________________________________________________________________\n",
      "simple_rnn_2 (SimpleRNN)     (None, 40, 32)            1568      \n",
      "_________________________________________________________________\n",
      "simple_rnn_3 (SimpleRNN)     (None, 32)                2080      \n",
      "_________________________________________________________________\n",
      "dense_1 (Dense)              (None, 5)                 165       \n",
      "=================================================================\n",
      "Total params: 163,813\n",
      "Trainable params: 163,813\n",
      "Non-trainable params: 0\n",
      "_________________________________________________________________\n"
     ]
    }
   ],
   "source": [
    "# Build the Model\n",
    "model = Sequential()\n",
    "model.add(Embedding(max_words, 16, input_length=maxlen))\n",
    "model.add(SimpleRNN(32, return_sequences=True))\n",
    "model.add(SimpleRNN(32))\n",
    "model.add(Dense(5, activation='softmax'))\n",
    "\n",
    "model.summary()"
   ]
  },
  {
   "cell_type": "code",
   "execution_count": 46,
   "metadata": {},
   "outputs": [
    {
     "name": "stdout",
     "output_type": "stream",
     "text": [
      "Train on 57600 samples, validate on 14400 samples\n",
      "Epoch 1/10\n",
      "57600/57600 [==============================] - 81s 1ms/sample - loss: 0.9168 - acc: 0.6897 - val_loss: 0.8199 - val_acc: 0.7260\n",
      "Epoch 2/10\n",
      "57600/57600 [==============================] - 74s 1ms/sample - loss: 0.8134 - acc: 0.7241 - val_loss: 0.8217 - val_acc: 0.7292\n",
      "Epoch 3/10\n",
      "57600/57600 [==============================] - 83s 1ms/sample - loss: 0.7802 - acc: 0.7350 - val_loss: 0.8133 - val_acc: 0.7263\n",
      "Epoch 4/10\n",
      "57600/57600 [==============================] - 65s 1ms/sample - loss: 0.7563 - acc: 0.7411 - val_loss: 0.8214 - val_acc: 0.7253\n",
      "Epoch 5/10\n",
      "57600/57600 [==============================] - 71s 1ms/sample - loss: 0.7327 - acc: 0.7494 - val_loss: 0.8189 - val_acc: 0.7292\n",
      "Epoch 6/10\n",
      "57600/57600 [==============================] - 86s 1ms/sample - loss: 0.7127 - acc: 0.7573 - val_loss: 0.8453 - val_acc: 0.7123\n",
      "Epoch 7/10\n",
      "57600/57600 [==============================] - 80s 1ms/sample - loss: 0.7003 - acc: 0.7610 - val_loss: 0.8609 - val_acc: 0.7003\n",
      "Epoch 8/10\n",
      "57600/57600 [==============================] - 106s 2ms/sample - loss: 0.6838 - acc: 0.7681 - val_loss: 0.8637 - val_acc: 0.7081\n",
      "Epoch 9/10\n",
      "57600/57600 [==============================] - 91s 2ms/sample - loss: 0.6683 - acc: 0.7736 - val_loss: 0.8737 - val_acc: 0.7088\n",
      "Epoch 10/10\n",
      "57600/57600 [==============================] - 96s 2ms/sample - loss: 0.6525 - acc: 0.7793 - val_loss: 0.8853 - val_acc: 0.7084\n"
     ]
    }
   ],
   "source": [
    "# Train the Model\n",
    "model.compile(optimizer='rmsprop', loss='categorical_crossentropy', metrics=['acc'])\n",
    "\n",
    "history = model.fit(X_train, y_train,\n",
    "                    epochs=10,\n",
    "                    batch_size=30,\n",
    "                    validation_split=0.2)"
   ]
  },
  {
   "cell_type": "code",
   "execution_count": 47,
   "metadata": {},
   "outputs": [
    {
     "data": {
      "image/png": "[encoded data removed]",
      "text/plain": [
       "<Figure size 432x288 with 1 Axes>"
      ]
     },
     "metadata": {
      "needs_background": "light"
     },
     "output_type": "display_data"
    },
    {
     "data": {
      "image/png": "[encoded data removed]",
      "text/plain": [
       "<Figure size 432x288 with 1 Axes>"
      ]
     },
     "metadata": {
      "needs_background": "light"
     },
     "output_type": "display_data"
    }
   ],
   "source": [
    "# Plot the Training and Validation Accuracy & Loss Scores\n",
    "import matplotlib.pyplot as plt\n",
    "%matplotlib inline\n",
    "\n",
    "acc = history.history['acc']\n",
    "val_acc = history.history['val_acc']\n",
    "loss = history.history['loss']\n",
    "val_loss = history.history['val_loss']\n",
    "\n",
    "epochs = range(len(acc))\n",
    "\n",
    "plt.plot(epochs, acc, 'bo', label='Training acc')\n",
    "plt.plot(epochs, val_acc, 'b', label='Validation acc')\n",
    "plt.title('Training and validation accuracy')\n",
    "plt.legend()\n",
    "\n",
    "plt.figure()\n",
    "\n",
    "plt.plot(epochs, loss, 'bo', label='Training loss')\n",
    "plt.plot(epochs, val_loss, 'b', label='Validation loss')\n",
    "plt.title('Training and validation loss')\n",
    "plt.legend()\n",
    "\n",
    "plt.show()"
   ]
  },
  {
   "cell_type": "code",
   "execution_count": 48,
   "metadata": {},
   "outputs": [],
   "source": [
    "# Improve the model\n",
    "# There are many options for improvements to the RNN model.\n",
    "# The current idea is to convert to an LSTM Model\n",
    "# Apply dropout, recurrent dropout and L2 regularization to LSTM layers\n",
    "# After researching, it was found that dropout and recurrent dropout values of 40% produce better results.\n",
    "# L2 Regularization was also commonly applied to most LTSM models with its small weight decay of 1e-4\n",
    "# 2 LSTM layers will be used in place of the 2 SimpleRNN layers in the initial model"
   ]
  },
  {
   "cell_type": "code",
   "execution_count": 49,
   "metadata": {},
   "outputs": [
    {
     "name": "stdout",
     "output_type": "stream",
     "text": [
      "Model: \"sequential_2\"\n",
      "_________________________________________________________________\n",
      "Layer (type)                 Output Shape              Param #   \n",
      "=================================================================\n",
      "embedding_2 (Embedding)      (None, 40, 16)            160000    \n",
      "_________________________________________________________________\n",
      "gru (GRU)                    (None, 40, 32)            4800      \n",
      "_________________________________________________________________\n",
      "gru_1 (GRU)                  (None, 40, 32)            6336      \n",
      "_________________________________________________________________\n",
      "gru_2 (GRU)                  (None, 32)                6336      \n",
      "_________________________________________________________________\n",
      "dense_2 (Dense)              (None, 5)                 165       \n",
      "=================================================================\n",
      "Total params: 177,637\n",
      "Trainable params: 177,637\n",
      "Non-trainable params: 0\n",
      "_________________________________________________________________\n"
     ]
    }
   ],
   "source": [
    "# Build Improved Model\n",
    "model = Sequential()\n",
    "model.add(Embedding(max_words, 16, input_length=maxlen))\n",
    "model.add(GRU(32, kernel_regularizer=l2(0.01), recurrent_regularizer=l2(0.01),\n",
    "              dropout=0.4, recurrent_dropout=0.4, return_sequences=True))\n",
    "model.add(GRU(32, recurrent_dropout=0.4, return_sequences=True))\n",
    "model.add(GRU(32))\n",
    "model.add(Dense(5, activation='softmax'))\n",
    "\n",
    "model.summary()"
   ]
  },
  {
   "cell_type": "code",
   "execution_count": 50,
   "metadata": {},
   "outputs": [
    {
     "name": "stdout",
     "output_type": "stream",
     "text": [
      "Train on 57600 samples, validate on 14400 samples\n",
      "Epoch 1/10\n",
      "57600/57600 [==============================] - 597s 10ms/sample - loss: 0.9891 - acc: 0.6758 - val_loss: 0.8806 - val_acc: 0.7125\n",
      "Epoch 2/10\n",
      "57600/57600 [==============================] - 604s 10ms/sample - loss: 0.8727 - acc: 0.7119 - val_loss: 0.8478 - val_acc: 0.7190\n",
      "Epoch 3/10\n",
      "57600/57600 [==============================] - 556s 10ms/sample - loss: 0.8459 - acc: 0.7184 - val_loss: 0.8269 - val_acc: 0.7233\n",
      "Epoch 4/10\n",
      "57600/57600 [==============================] - 562s 10ms/sample - loss: 0.8327 - acc: 0.7205 - val_loss: 0.8220 - val_acc: 0.7233\n",
      "Epoch 5/10\n",
      "57600/57600 [==============================] - 558s 10ms/sample - loss: 0.8239 - acc: 0.7227 - val_loss: 0.8255 - val_acc: 0.7243\n",
      "Epoch 6/10\n",
      "57600/57600 [==============================] - 499s 9ms/sample - loss: 0.8175 - acc: 0.7253 - val_loss: 0.8215 - val_acc: 0.7254\n",
      "Epoch 7/10\n",
      "57600/57600 [==============================] - 519s 9ms/sample - loss: 0.8120 - acc: 0.7259 - val_loss: 0.8174 - val_acc: 0.7226\n",
      "Epoch 8/10\n",
      "57600/57600 [==============================] - 491s 9ms/sample - loss: 0.8072 - acc: 0.7262 - val_loss: 0.8075 - val_acc: 0.7257\n",
      "Epoch 9/10\n",
      "57600/57600 [==============================] - 509s 9ms/sample - loss: 0.8043 - acc: 0.7280 - val_loss: 0.8118 - val_acc: 0.7267\n",
      "Epoch 10/10\n",
      "57600/57600 [==============================] - 488s 8ms/sample - loss: 0.7998 - acc: 0.7296 - val_loss: 0.8136 - val_acc: 0.7277\n"
     ]
    }
   ],
   "source": [
    "# Fit & Train Model\n",
    "model.compile(optimizer='rmsprop', loss='categorical_crossentropy', metrics=['acc'])\n",
    "\n",
    "history = model.fit(X_train, y_train,\n",
    "                    epochs=10,\n",
    "                    batch_size=30,\n",
    "                    validation_split=0.2)"
   ]
  },
  {
   "cell_type": "code",
   "execution_count": 51,
   "metadata": {},
   "outputs": [
    {
     "data": {
      "image/png": "[encoded data removed]",
      "text/plain": [
       "<Figure size 432x288 with 1 Axes>"
      ]
     },
     "metadata": {
      "needs_background": "light"
     },
     "output_type": "display_data"
    },
    {
     "data": {
      "image/png": "[encoded data removed]",
      "text/plain": [
       "<Figure size 432x288 with 1 Axes>"
      ]
     },
     "metadata": {
      "needs_background": "light"
     },
     "output_type": "display_data"
    }
   ],
   "source": [
    "# Plot the Improved Training and Validation Accuracy & Loss Scores\n",
    "import matplotlib.pyplot as plt\n",
    "%matplotlib inline\n",
    "\n",
    "acc = history.history['acc']\n",
    "val_acc = history.history['val_acc']\n",
    "loss = history.history['loss']\n",
    "val_loss = history.history['val_loss']\n",
    "\n",
    "epochs = range(len(acc))\n",
    "\n",
    "plt.plot(epochs, acc, 'bo', label='Training acc')\n",
    "plt.plot(epochs, val_acc, 'b', label='Validation acc')\n",
    "plt.title('Training and validation accuracy')\n",
    "plt.legend()\n",
    "\n",
    "plt.figure()\n",
    "\n",
    "plt.plot(epochs, loss, 'bo', label='Training loss')\n",
    "plt.plot(epochs, val_loss, 'b', label='Validation loss')\n",
    "plt.title('Training and validation loss')\n",
    "plt.legend()\n",
    "\n",
    "plt.show()"
   ]
  },
  {
   "cell_type": "code",
   "execution_count": 52,
   "metadata": {},
   "outputs": [],
   "source": [
    "# Save the Model\n",
    "model.save('text_model_1.h5')"
   ]
  },
  {
   "cell_type": "markdown",
   "metadata": {},
   "source": [
    "### Model #2 GloVe Model on Reddit Dataset"
   ]
  },
  {
   "cell_type": "code",
   "execution_count": 56,
   "metadata": {},
   "outputs": [
    {
     "name": "stdout",
     "output_type": "stream",
     "text": [
      "Model: \"sequential_4\"\n",
      "_________________________________________________________________\n",
      "Layer (type)                 Output Shape              Param #   \n",
      "=================================================================\n",
      "embedding_3 (Embedding)      (None, 40, 50)            500000    \n",
      "_________________________________________________________________\n",
      "flatten (Flatten)            (None, 2000)              0         \n",
      "_________________________________________________________________\n",
      "dense_3 (Dense)              (None, 32)                64032     \n",
      "_________________________________________________________________\n",
      "dense_4 (Dense)              (None, 5)                 165       \n",
      "=================================================================\n",
      "Total params: 564,197\n",
      "Trainable params: 64,197\n",
      "Non-trainable params: 500,000\n",
      "_________________________________________________________________\n"
     ]
    }
   ],
   "source": [
    "# Build the Model\n",
    "model = Sequential()\n",
    "model.add(Embedding(max_words, embedding_dim, input_length=maxlen))\n",
    "model.add(Flatten())\n",
    "model.add(Dense(32, activation='relu'))\n",
    "model.add(Dense(5, activation='softmax'))\n",
    "\n",
    "model.layers[0].set_weights([embedding_matrix])\n",
    "model.layers[0].trainable = False\n",
    "model.summary()"
   ]
  },
  {
   "cell_type": "code",
   "execution_count": 57,
   "metadata": {},
   "outputs": [
    {
     "name": "stdout",
     "output_type": "stream",
     "text": [
      "Train on 57600 samples, validate on 14400 samples\n",
      "Epoch 1/10\n",
      "57600/57600 [==============================] - 9s 160us/sample - loss: 0.9858 - acc: 0.6657 - val_loss: 0.9351 - val_acc: 0.6821\n",
      "Epoch 2/10\n",
      "57600/57600 [==============================] - 9s 163us/sample - loss: 0.9027 - acc: 0.6889 - val_loss: 0.9292 - val_acc: 0.6867\n",
      "Epoch 3/10\n",
      "57600/57600 [==============================] - 8s 143us/sample - loss: 0.8627 - acc: 0.7007 - val_loss: 0.9426 - val_acc: 0.6809\n",
      "Epoch 4/10\n",
      "57600/57600 [==============================] - 9s 155us/sample - loss: 0.8253 - acc: 0.7126 - val_loss: 0.9629 - val_acc: 0.6849\n",
      "Epoch 5/10\n",
      "57600/57600 [==============================] - 8s 138us/sample - loss: 0.7921 - acc: 0.7244 - val_loss: 0.9919 - val_acc: 0.6782\n",
      "Epoch 6/10\n",
      "57600/57600 [==============================] - 9s 158us/sample - loss: 0.7629 - acc: 0.7353 - val_loss: 1.0338 - val_acc: 0.6719\n",
      "Epoch 7/10\n",
      "57600/57600 [==============================] - 8s 140us/sample - loss: 0.7358 - acc: 0.7438 - val_loss: 1.0749 - val_acc: 0.6695\n",
      "Epoch 8/10\n",
      "57600/57600 [==============================] - 9s 158us/sample - loss: 0.7133 - acc: 0.7512 - val_loss: 1.1394 - val_acc: 0.6542\n",
      "Epoch 9/10\n",
      "57600/57600 [==============================] - 9s 164us/sample - loss: 0.6920 - acc: 0.7601 - val_loss: 1.1892 - val_acc: 0.6534\n",
      "Epoch 10/10\n",
      "57600/57600 [==============================] - 8s 138us/sample - loss: 0.6735 - acc: 0.7667 - val_loss: 1.2446 - val_acc: 0.6629\n"
     ]
    }
   ],
   "source": [
    "# Train and fit the Model\n",
    "model.compile(optimizer='rmsprop',\n",
    "              loss='categorical_crossentropy',\n",
    "              metrics=['acc'])\n",
    "\n",
    "history = model.fit(X_train, y_train,\n",
    "                    epochs=10,\n",
    "                    batch_size=32,\n",
    "                    validation_split=0.2)"
   ]
  },
  {
   "cell_type": "code",
   "execution_count": 58,
   "metadata": {},
   "outputs": [
    {
     "data": {
      "image/png": "[encoded data removed]",
      "text/plain": [
       "<Figure size 432x288 with 1 Axes>"
      ]
     },
     "metadata": {
      "needs_background": "light"
     },
     "output_type": "display_data"
    },
    {
     "data": {
      "image/png": "[encoded data removed]",
      "text/plain": [
       "<Figure size 432x288 with 1 Axes>"
      ]
     },
     "metadata": {
      "needs_background": "light"
     },
     "output_type": "display_data"
    }
   ],
   "source": [
    "# Plot the Training and Validation Accuracy & Loss Scores\n",
    "import matplotlib.pyplot as plt\n",
    "%matplotlib inline\n",
    "\n",
    "acc = history.history['acc']\n",
    "val_acc = history.history['val_acc']\n",
    "loss = history.history['loss']\n",
    "val_loss = history.history['val_loss']\n",
    "\n",
    "epochs = range(len(acc))\n",
    "\n",
    "plt.plot(epochs, acc, 'bo', label='Training acc')\n",
    "plt.plot(epochs, val_acc, 'b', label='Validation acc')\n",
    "plt.title('Training and validation accuracy')\n",
    "plt.legend()\n",
    "\n",
    "plt.figure()\n",
    "\n",
    "plt.plot(epochs, loss, 'bo', label='Training loss')\n",
    "plt.plot(epochs, val_loss, 'b', label='Validation loss')\n",
    "plt.title('Training and validation loss')\n",
    "plt.legend()\n",
    "\n",
    "plt.show()"
   ]
  },
  {
   "cell_type": "code",
   "execution_count": 59,
   "metadata": {},
   "outputs": [
    {
     "name": "stdout",
     "output_type": "stream",
     "text": [
      "Model: \"sequential_5\"\n",
      "_________________________________________________________________\n",
      "Layer (type)                 Output Shape              Param #   \n",
      "=================================================================\n",
      "embedding_4 (Embedding)      (None, 40, 50)            500000    \n",
      "_________________________________________________________________\n",
      "flatten_1 (Flatten)          (None, 2000)              0         \n",
      "_________________________________________________________________\n",
      "dense_5 (Dense)              (None, 64)                128064    \n",
      "_________________________________________________________________\n",
      "dropout (Dropout)            (None, 64)                0         \n",
      "_________________________________________________________________\n",
      "dense_6 (Dense)              (None, 32)                2080      \n",
      "_________________________________________________________________\n",
      "dropout_1 (Dropout)          (None, 32)                0         \n",
      "_________________________________________________________________\n",
      "dense_7 (Dense)              (None, 16)                528       \n",
      "_________________________________________________________________\n",
      "dense_8 (Dense)              (None, 5)                 85        \n",
      "=================================================================\n",
      "Total params: 630,757\n",
      "Trainable params: 630,757\n",
      "Non-trainable params: 0\n",
      "_________________________________________________________________\n"
     ]
    }
   ],
   "source": [
    "# Improve the model by adding regularization and dropout layers, Unfreeze Layers\n",
    "model = Sequential()\n",
    "model.add(Embedding(max_words, embedding_dim, input_length=maxlen))\n",
    "model.add(Flatten())\n",
    "model.add(layers.Dense(64, kernel_regularizer=regularizers.l2(0.001), \n",
    "                       activation='relu'))\n",
    "model.add(layers.Dropout(0.4))\n",
    "model.add(layers.Dense(32, kernel_regularizer=regularizers.l2(0.001), \n",
    "                       activation='relu'))\n",
    "model.add(layers.Dropout(0.4))\n",
    "model.add(Dense(16, activation='relu'))\n",
    "model.add(Dense(5, activation='softmax'))\n",
    "\n",
    "model.layers[0].set_weights([embedding_matrix])\n",
    "model.layers[0].trainable = True\n",
    "model.summary()"
   ]
  },
  {
   "cell_type": "code",
   "execution_count": 60,
   "metadata": {},
   "outputs": [
    {
     "name": "stdout",
     "output_type": "stream",
     "text": [
      "Train on 57600 samples, validate on 14400 samples\n",
      "Epoch 1/30\n",
      "57600/57600 [==============================] - 13s 232us/sample - loss: 1.0776 - acc: 0.6670 - val_loss: 0.9336 - val_acc: 0.7081\n",
      "Epoch 2/30\n",
      "57600/57600 [==============================] - 17s 300us/sample - loss: 0.9428 - acc: 0.7055 - val_loss: 0.8919 - val_acc: 0.7156\n",
      "Epoch 3/30\n",
      "57600/57600 [==============================] - 16s 283us/sample - loss: 0.9081 - acc: 0.7121 - val_loss: 0.8920 - val_acc: 0.7149\n",
      "Epoch 4/30\n",
      "57600/57600 [==============================] - 16s 282us/sample - loss: 0.8898 - acc: 0.7161 - val_loss: 0.8680 - val_acc: 0.7228\n",
      "Epoch 5/30\n",
      "57600/57600 [==============================] - 16s 274us/sample - loss: 0.8748 - acc: 0.7219 - val_loss: 0.8596 - val_acc: 0.7283\n",
      "Epoch 6/30\n",
      "57600/57600 [==============================] - 17s 293us/sample - loss: 0.8658 - acc: 0.7251 - val_loss: 0.8571 - val_acc: 0.7285\n",
      "Epoch 7/30\n",
      "57600/57600 [==============================] - 17s 299us/sample - loss: 0.8574 - acc: 0.7279 - val_loss: 0.8550 - val_acc: 0.7260\n",
      "Epoch 8/30\n",
      "57600/57600 [==============================] - 16s 280us/sample - loss: 0.8515 - acc: 0.7281 - val_loss: 0.8519 - val_acc: 0.7298\n",
      "Epoch 9/30\n",
      "57600/57600 [==============================] - 11s 198us/sample - loss: 0.8478 - acc: 0.7304 - val_loss: 0.8535 - val_acc: 0.7311\n",
      "Epoch 10/30\n",
      "57600/57600 [==============================] - 13s 234us/sample - loss: 0.8423 - acc: 0.7311 - val_loss: 0.8545 - val_acc: 0.7301\n",
      "Epoch 11/30\n",
      "57600/57600 [==============================] - 11s 194us/sample - loss: 0.8377 - acc: 0.7323 - val_loss: 0.8536 - val_acc: 0.7310\n",
      "Epoch 12/30\n",
      "57600/57600 [==============================] - 11s 186us/sample - loss: 0.8366 - acc: 0.7314 - val_loss: 0.8654 - val_acc: 0.7269\n",
      "Epoch 13/30\n",
      "57600/57600 [==============================] - 11s 188us/sample - loss: 0.8331 - acc: 0.7343 - val_loss: 0.8505 - val_acc: 0.7281\n",
      "Epoch 14/30\n",
      "57600/57600 [==============================] - 11s 184us/sample - loss: 0.8258 - acc: 0.7373 - val_loss: 0.8605 - val_acc: 0.7257\n",
      "Epoch 15/30\n",
      "57600/57600 [==============================] - 11s 187us/sample - loss: 0.8268 - acc: 0.7377 - val_loss: 0.8640 - val_acc: 0.7264\n",
      "Epoch 16/30\n",
      "57600/57600 [==============================] - 11s 195us/sample - loss: 0.8244 - acc: 0.7377 - val_loss: 0.8571 - val_acc: 0.7286\n",
      "Epoch 17/30\n",
      "57600/57600 [==============================] - 11s 190us/sample - loss: 0.8213 - acc: 0.7392 - val_loss: 0.8707 - val_acc: 0.7269\n",
      "Epoch 18/30\n",
      "57600/57600 [==============================] - 11s 192us/sample - loss: 0.8184 - acc: 0.7400 - val_loss: 0.8684 - val_acc: 0.7234\n",
      "Epoch 19/30\n",
      "57600/57600 [==============================] - 11s 196us/sample - loss: 0.8162 - acc: 0.7418 - val_loss: 0.8720 - val_acc: 0.7218\n",
      "Epoch 20/30\n",
      "57600/57600 [==============================] - 12s 201us/sample - loss: 0.8172 - acc: 0.7415 - val_loss: 0.8776 - val_acc: 0.7257\n",
      "Epoch 21/30\n",
      "57600/57600 [==============================] - 14s 242us/sample - loss: 0.8114 - acc: 0.7420 - val_loss: 0.8879 - val_acc: 0.7183\n",
      "Epoch 22/30\n",
      "57600/57600 [==============================] - 18s 312us/sample - loss: 0.8109 - acc: 0.7431 - val_loss: 0.8860 - val_acc: 0.7262\n",
      "Epoch 23/30\n",
      "57600/57600 [==============================] - 19s 330us/sample - loss: 0.8072 - acc: 0.7461 - val_loss: 0.8840 - val_acc: 0.7235\n",
      "Epoch 24/30\n",
      "57600/57600 [==============================] - 16s 282us/sample - loss: 0.8046 - acc: 0.7456 - val_loss: 0.8837 - val_acc: 0.7245\n",
      "Epoch 25/30\n",
      "57600/57600 [==============================] - 17s 289us/sample - loss: 0.8022 - acc: 0.7479 - val_loss: 0.8949 - val_acc: 0.7146\n",
      "Epoch 26/30\n",
      "57600/57600 [==============================] - 17s 290us/sample - loss: 0.8029 - acc: 0.7468 - val_loss: 0.8876 - val_acc: 0.7215\n",
      "Epoch 27/30\n",
      "57600/57600 [==============================] - 17s 291us/sample - loss: 0.8009 - acc: 0.7478 - val_loss: 0.9105 - val_acc: 0.7133\n",
      "Epoch 28/30\n",
      "57600/57600 [==============================] - 17s 287us/sample - loss: 0.8014 - acc: 0.7491 - val_loss: 0.8951 - val_acc: 0.7210\n",
      "Epoch 29/30\n",
      "57600/57600 [==============================] - 16s 286us/sample - loss: 0.7973 - acc: 0.7496 - val_loss: 0.9082 - val_acc: 0.7192\n",
      "Epoch 30/30\n",
      "57600/57600 [==============================] - 12s 204us/sample - loss: 0.7976 - acc: 0.7526 - val_loss: 0.9078 - val_acc: 0.7179\n"
     ]
    }
   ],
   "source": [
    "# Compile and fit model\n",
    "model.compile(optimizer='rmsprop',\n",
    "              loss='categorical_crossentropy',\n",
    "              metrics=['acc'])\n",
    "\n",
    "history = model.fit(X_train, y_train,\n",
    "                    epochs=30,\n",
    "                    batch_size=32,\n",
    "                    validation_split=0.2)"
   ]
  },
  {
   "cell_type": "code",
   "execution_count": 61,
   "metadata": {},
   "outputs": [
    {
     "data": {
      "image/png": "[encoded data removed]",
      "text/plain": [
       "<Figure size 432x288 with 1 Axes>"
      ]
     },
     "metadata": {
      "needs_background": "light"
     },
     "output_type": "display_data"
    },
    {
     "data": {
      "image/png": "[encoded data removed]",
      "text/plain": [
       "<Figure size 432x288 with 1 Axes>"
      ]
     },
     "metadata": {
      "needs_background": "light"
     },
     "output_type": "display_data"
    }
   ],
   "source": [
    "# Plot the model\n",
    "%matplotlib inline\n",
    "import matplotlib.pyplot as plt\n",
    "\n",
    "acc = history.history['acc']\n",
    "val_acc = history.history['val_acc']\n",
    "loss = history.history['loss']\n",
    "val_loss = history.history['val_loss']\n",
    "\n",
    "epochs = range(1, len(acc) + 1)\n",
    "\n",
    "plt.plot(epochs, acc, 'bo', label='Training acc')\n",
    "plt.plot(epochs, val_acc, 'b', label='Validation acc')\n",
    "plt.title('Training and validation accuracy')\n",
    "plt.legend()\n",
    "\n",
    "plt.figure()\n",
    "\n",
    "plt.plot(epochs, loss, 'bo', label='Training loss')\n",
    "plt.plot(epochs, val_loss, 'b', label='Validation loss')\n",
    "plt.title('Training and validation loss')\n",
    "plt.legend()\n",
    "\n",
    "plt.show()"
   ]
  },
  {
   "cell_type": "code",
   "execution_count": 62,
   "metadata": {},
   "outputs": [],
   "source": [
    "# Save the Model\n",
    "model.save('text_model_2.h5')"
   ]
  },
  {
   "cell_type": "markdown",
   "metadata": {},
   "source": [
    "## Step 3 – Evaluate the Model using Testing Data"
   ]
  },
  {
   "cell_type": "code",
   "execution_count": 86,
   "metadata": {},
   "outputs": [
    {
     "name": "stdout",
     "output_type": "stream",
     "text": [
      "Model: \"sequential_10\"\n",
      "_________________________________________________________________\n",
      "Layer (type)                 Output Shape              Param #   \n",
      "=================================================================\n",
      "embedding_9 (Embedding)      (None, 40, 16)            160000    \n",
      "_________________________________________________________________\n",
      "gru_3 (GRU)                  (None, 40, 32)            4800      \n",
      "_________________________________________________________________\n",
      "gru_4 (GRU)                  (None, 40, 32)            6336      \n",
      "_________________________________________________________________\n",
      "gru_5 (GRU)                  (None, 32)                6336      \n",
      "_________________________________________________________________\n",
      "dense_13 (Dense)             (None, 5)                 165       \n",
      "=================================================================\n",
      "Total params: 177,637\n",
      "Trainable params: 177,637\n",
      "Non-trainable params: 0\n",
      "_________________________________________________________________\n"
     ]
    }
   ],
   "source": [
    "# Model #1 GRU Model\n",
    "model = Sequential()\n",
    "model.add(Embedding(max_words, 16, input_length=maxlen))\n",
    "model.add(GRU(32, kernel_regularizer=l2(0.01), recurrent_regularizer=l2(0.01), \n",
    "              dropout=0.4, recurrent_dropout=0.4, return_sequences=True))\n",
    "model.add(GRU(32, recurrent_dropout=0.4, return_sequences=True))\n",
    "model.add(GRU(32))\n",
    "model.add(Dense(5, activation='softmax'))\n",
    "\n",
    "model.summary()\n",
    "model.load_weights('text_model_1.h5')"
   ]
  },
  {
   "cell_type": "code",
   "execution_count": 87,
   "metadata": {},
   "outputs": [],
   "source": [
    "#Compile Model\n",
    "model.compile(optimizer='rmsprop', loss='categorical_crossentropy', metrics=['acc'])"
   ]
  },
  {
   "cell_type": "code",
   "execution_count": 88,
   "metadata": {},
   "outputs": [
    {
     "name": "stdout",
     "output_type": "stream",
     "text": [
      "18000/18000 - 31s - loss: 0.8118 - acc: 0.7252\n"
     ]
    },
    {
     "data": {
      "text/plain": [
       "[0.8118233558601803, 0.72522223]"
      ]
     },
     "execution_count": 88,
     "metadata": {},
     "output_type": "execute_result"
    }
   ],
   "source": [
    "#Evaluation on Reddit Dataset\n",
    "model.evaluate(X_test, y_test, verbose=2)"
   ]
  },
  {
   "cell_type": "code",
   "execution_count": 107,
   "metadata": {},
   "outputs": [
    {
     "name": "stdout",
     "output_type": "stream",
     "text": [
      "Model: \"sequential_14\"\n",
      "_________________________________________________________________\n",
      "Layer (type)                 Output Shape              Param #   \n",
      "=================================================================\n",
      "embedding_13 (Embedding)     (None, 40, 50)            500000    \n",
      "_________________________________________________________________\n",
      "flatten_3 (Flatten)          (None, 2000)              0         \n",
      "_________________________________________________________________\n",
      "dense_20 (Dense)             (None, 64)                128064    \n",
      "_________________________________________________________________\n",
      "dropout_4 (Dropout)          (None, 64)                0         \n",
      "_________________________________________________________________\n",
      "dense_21 (Dense)             (None, 32)                2080      \n",
      "_________________________________________________________________\n",
      "dropout_5 (Dropout)          (None, 32)                0         \n",
      "_________________________________________________________________\n",
      "dense_22 (Dense)             (None, 16)                528       \n",
      "_________________________________________________________________\n",
      "dense_23 (Dense)             (None, 5)                 85        \n",
      "=================================================================\n",
      "Total params: 630,757\n",
      "Trainable params: 630,757\n",
      "Non-trainable params: 0\n",
      "_________________________________________________________________\n"
     ]
    }
   ],
   "source": [
    "# Model #2 GloVe Word Embedding Model\n",
    "model = Sequential()\n",
    "model.add(Embedding(max_words, embedding_dim, input_length=maxlen))\n",
    "model.add(Flatten())\n",
    "model.add(layers.Dense(64, kernel_regularizer=regularizers.l2(0.001), activation='relu'))\n",
    "model.add(layers.Dropout(0.4))\n",
    "model.add(layers.Dense(32, kernel_regularizer=regularizers.l2(0.001), activation='relu'))\n",
    "model.add(layers.Dropout(0.4))\n",
    "model.add(Dense(16, activation='relu'))\n",
    "model.add(Dense(5, activation='softmax'))\n",
    "\n",
    "model.layers[0].set_weights([embedding_matrix])\n",
    "model.layers[0].trainable = True\n",
    "model.summary()\n",
    "model.load_weights('text_model_2.h5')"
   ]
  },
  {
   "cell_type": "code",
   "execution_count": 108,
   "metadata": {},
   "outputs": [],
   "source": [
    "#Compile Model\n",
    "model.compile(optimizer='rmsprop',\n",
    "              loss='categorical_crossentropy',\n",
    "              metrics=['acc'])"
   ]
  },
  {
   "cell_type": "code",
   "execution_count": 109,
   "metadata": {},
   "outputs": [
    {
     "name": "stdout",
     "output_type": "stream",
     "text": [
      "18000/18000 - 1s - loss: 0.8014 - acc: 0.7529\n"
     ]
    },
    {
     "data": {
      "text/plain": [
       "[0.8014465415212844, 0.75294447]"
      ]
     },
     "execution_count": 109,
     "metadata": {},
     "output_type": "execute_result"
    }
   ],
   "source": [
    "#Evaluation on Reddit Dataset\n",
    "model.evaluate(X_test, y_test, verbose=2)"
   ]
  },
  {
   "cell_type": "markdown",
   "metadata": {},
   "source": [
    "## Step 4 – Use the Best Model to make prediction"
   ]
  },
  {
   "cell_type": "code",
   "execution_count": null,
   "metadata": {},
   "outputs": [],
   "source": [
    "model = Sequential()\n",
    "model.add(Embedding(10000, embedding_dim, input_length=maxlen))\n",
    "model.add(Flatten())\n",
    "model.add(layers.Dense(64, kernel_regularizer=regularizers.l2(0.001), activation='relu'))\n",
    "model.add(layers.Dropout(0.4))\n",
    "model.add(layers.Dense(32, kernel_regularizer=regularizers.l2(0.001), activation='relu'))\n",
    "model.add(layers.Dropout(0.4))\n",
    "model.add(Dense(16, activation='relu'))\n",
    "model.add(Dense(5, activation='softmax'))\n",
    "\n",
    "model.load_weights('text_model_best.h5')\n",
    "model.layers[0].set_weights([embedding_matrix])\n",
    "model.layers[0].trainable = True"
   ]
  },
  {
   "cell_type": "code",
   "execution_count": 12,
   "metadata": {},
   "outputs": [
    {
     "name": "stdout",
     "output_type": "stream",
     "text": [
      "I really like this app! It is very nice to use!\n"
     ]
    }
   ],
   "source": [
    "# test user input Rating 5\n",
    "text_input = np.array([input()])"
   ]
  },
  {
   "cell_type": "code",
   "execution_count": 19,
   "metadata": {},
   "outputs": [
    {
     "name": "stdout",
     "output_type": "stream",
     "text": [
      "Its not too bad. I enjoy discussing reddit threads with other people. Still better than twitter though...\n"
     ]
    }
   ],
   "source": [
    "# test user input Rating 4\n",
    "text_input = np.array([input()])"
   ]
  },
  {
   "cell_type": "code",
   "execution_count": 22,
   "metadata": {},
   "outputs": [
    {
     "name": "stdout",
     "output_type": "stream",
     "text": [
      "Its not as smooth as i thought it would be. I give it perks that it provides good quality content and the community is nice but the UI and its design is not that great. Could work on better improvements\n"
     ]
    }
   ],
   "source": [
    "# test user input Rating 3\n",
    "text_input = np.array([input()])"
   ]
  },
  {
   "cell_type": "code",
   "execution_count": 25,
   "metadata": {},
   "outputs": [
    {
     "name": "stdout",
     "output_type": "stream",
     "text": [
      "The loading is quite slow and most of the content i have saved in my bookmarks end up disappearing. It is not the best experience. I am hoping the next update would add better improvements\n"
     ]
    }
   ],
   "source": [
    "# test user input Rating 2\n",
    "text_input = np.array([input()])"
   ]
  },
  {
   "cell_type": "code",
   "execution_count": 28,
   "metadata": {},
   "outputs": [
    {
     "name": "stdout",
     "output_type": "stream",
     "text": [
      "man i havent exprienced an app this bad in quite awhile. The processing takes too long, my favourites are always gone and the community is horrible. wont experience ever again\n"
     ]
    }
   ],
   "source": [
    "# test user input Rating 1\n",
    "text_input = np.array([input()])"
   ]
  },
  {
   "cell_type": "code",
   "execution_count": 29,
   "metadata": {},
   "outputs": [],
   "source": [
    "# convert the user input into numeric tensor\n",
    "maxlen = 40  # Cut review after 40 words\n",
    "\n",
    "tokenizer.fit_on_texts(text_input)\n",
    "sequences = tokenizer.texts_to_sequences(text_input)\n",
    "\n",
    "word_index = tokenizer.word_index\n",
    "\n",
    "data = pad_sequences(sequences, maxlen=maxlen)"
   ]
  },
  {
   "cell_type": "code",
   "execution_count": 18,
   "metadata": {},
   "outputs": [
    {
     "data": {
      "text/plain": [
       "array([[0.04411256, 0.01535538, 0.06514562, 0.19653971, 0.6788467 ]],\n",
       "      dtype=float32)"
      ]
     },
     "execution_count": 18,
     "metadata": {},
     "output_type": "execute_result"
    }
   ],
   "source": [
    "# Prediction for rating 5 (Success)\n",
    "model.predict(data)"
   ]
  },
  {
   "cell_type": "code",
   "execution_count": 21,
   "metadata": {},
   "outputs": [
    {
     "data": {
      "text/plain": [
       "array([[0.04196046, 0.06933104, 0.27400002, 0.41528878, 0.19941969]],\n",
       "      dtype=float32)"
      ]
     },
     "execution_count": 21,
     "metadata": {},
     "output_type": "execute_result"
    }
   ],
   "source": [
    "# prediction for rating 4 (Success)\n",
    "model.predict(data)"
   ]
  },
  {
   "cell_type": "code",
   "execution_count": 24,
   "metadata": {},
   "outputs": [
    {
     "data": {
      "text/plain": [
       "array([[0.00093735, 0.0053682 , 0.12234452, 0.7387345 , 0.13261539]],\n",
       "      dtype=float32)"
      ]
     },
     "execution_count": 24,
     "metadata": {},
     "output_type": "execute_result"
    }
   ],
   "source": [
    "# Prediction for rating 3 (Failure)\n",
    "model.predict(data)"
   ]
  },
  {
   "cell_type": "code",
   "execution_count": 27,
   "metadata": {},
   "outputs": [
    {
     "data": {
      "text/plain": [
       "array([[0.19198836, 0.26071376, 0.32254484, 0.17094749, 0.05380553]],\n",
       "      dtype=float32)"
      ]
     },
     "execution_count": 27,
     "metadata": {},
     "output_type": "execute_result"
    }
   ],
   "source": [
    "# Prediction for rating 2 (Failure)\n",
    "model.predict(data)"
   ]
  },
  {
   "cell_type": "code",
   "execution_count": 30,
   "metadata": {},
   "outputs": [
    {
     "data": {
      "text/plain": [
       "array([[0.61508906, 0.21565367, 0.10343461, 0.03546254, 0.0303601 ]],\n",
       "      dtype=float32)"
      ]
     },
     "execution_count": 30,
     "metadata": {},
     "output_type": "execute_result"
    }
   ],
   "source": [
    "# Prediction for rating 1 (Success)\n",
    "model.predict(data)"
   ]
  }
 ],
 "metadata": {
  "kernelspec": {
   "display_name": "Python 3 (ipykernel)",
   "language": "python",
   "name": "python3"
  },
  "language_info": {
   "codemirror_mode": {
    "name": "ipython",
    "version": 3
   },
   "file_extension": ".py",
   "mimetype": "text/x-python",
   "name": "python",
   "nbconvert_exporter": "python",
   "pygments_lexer": "ipython3",
   "version": "3.11.5"
  }
 },
 "nbformat": 4,
 "nbformat_minor": 2
}
